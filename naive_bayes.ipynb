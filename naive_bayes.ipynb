{
 "cells": [
  {
   "cell_type": "code",
   "execution_count": 2,
   "id": "8651286a",
   "metadata": {},
   "outputs": [],
   "source": [
    "import nltk\n",
    "from nltk.corpus import stopwords\n",
    "from nltk.tokenize import word_tokenize, RegexpTokenizer\n",
    "\n",
    "import pickle\n",
    "import pandas as pd\n",
    "from tqdm import tqdm\n",
    "import seaborn as sns\n",
    "import matplotlib.pyplot as plt\n",
    "from collections import Counter\n",
    "\n",
    "import sklearn\n",
    "from sklearn.naive_bayes import MultinomialNB\n",
    "from sklearn.model_selection import train_test_split\n",
    "from sklearn.feature_extraction.text import CountVectorizer\n",
    "from sklearn.metrics import accuracy_score, confusion_matrix\n",
    "\n",
    "%matplotlib inline"
   ]
  },
  {
   "cell_type": "markdown",
   "id": "6d9a4a64",
   "metadata": {},
   "source": [
    "# Data Cleaning & Exploration"
   ]
  },
  {
   "cell_type": "code",
   "execution_count": 3,
   "id": "8df84b39",
   "metadata": {},
   "outputs": [],
   "source": [
    "data = pd.read_csv(\"Input/complaints.csv\")"
   ]
  },
  {
   "cell_type": "code",
   "execution_count": 4,
   "id": "2bbfbbb9",
   "metadata": {},
   "outputs": [
    {
     "data": {
      "text/plain": [
       "(2326246, 18)"
      ]
     },
     "execution_count": 4,
     "metadata": {},
     "output_type": "execute_result"
    }
   ],
   "source": [
    "data.shape"
   ]
  },
  {
   "cell_type": "code",
   "execution_count": 5,
   "id": "8b0b0dea",
   "metadata": {},
   "outputs": [
    {
     "data": {
      "text/html": [
       "<div>\n",
       "<style scoped>\n",
       "    .dataframe tbody tr th:only-of-type {\n",
       "        vertical-align: middle;\n",
       "    }\n",
       "\n",
       "    .dataframe tbody tr th {\n",
       "        vertical-align: top;\n",
       "    }\n",
       "\n",
       "    .dataframe thead th {\n",
       "        text-align: right;\n",
       "    }\n",
       "</style>\n",
       "<table border=\"1\" class=\"dataframe\">\n",
       "  <thead>\n",
       "    <tr style=\"text-align: right;\">\n",
       "      <th></th>\n",
       "      <th>Date received</th>\n",
       "      <th>Product</th>\n",
       "      <th>Sub-product</th>\n",
       "      <th>Issue</th>\n",
       "      <th>Sub-issue</th>\n",
       "      <th>Consumer complaint narrative</th>\n",
       "      <th>Company public response</th>\n",
       "      <th>Company</th>\n",
       "      <th>State</th>\n",
       "      <th>ZIP code</th>\n",
       "      <th>Tags</th>\n",
       "      <th>Consumer consent provided?</th>\n",
       "      <th>Submitted via</th>\n",
       "      <th>Date sent to company</th>\n",
       "      <th>Company response to consumer</th>\n",
       "      <th>Timely response?</th>\n",
       "      <th>Consumer disputed?</th>\n",
       "      <th>Complaint ID</th>\n",
       "    </tr>\n",
       "  </thead>\n",
       "  <tbody>\n",
       "    <tr>\n",
       "      <th>0</th>\n",
       "      <td>2019-06-13</td>\n",
       "      <td>Credit reporting, credit repair services, or o...</td>\n",
       "      <td>Credit reporting</td>\n",
       "      <td>Incorrect information on your report</td>\n",
       "      <td>Information belongs to someone else</td>\n",
       "      <td>NaN</td>\n",
       "      <td>NaN</td>\n",
       "      <td>CAPITAL ONE FINANCIAL CORPORATION</td>\n",
       "      <td>PA</td>\n",
       "      <td>186XX</td>\n",
       "      <td>NaN</td>\n",
       "      <td>Consent not provided</td>\n",
       "      <td>Web</td>\n",
       "      <td>2019-06-13</td>\n",
       "      <td>Closed with explanation</td>\n",
       "      <td>Yes</td>\n",
       "      <td>NaN</td>\n",
       "      <td>3274605</td>\n",
       "    </tr>\n",
       "    <tr>\n",
       "      <th>1</th>\n",
       "      <td>2019-11-01</td>\n",
       "      <td>Vehicle loan or lease</td>\n",
       "      <td>Loan</td>\n",
       "      <td>Struggling to pay your loan</td>\n",
       "      <td>Denied request to lower payments</td>\n",
       "      <td>I contacted Ally on Friday XX/XX/XXXX after fa...</td>\n",
       "      <td>Company has responded to the consumer and the ...</td>\n",
       "      <td>ALLY FINANCIAL INC.</td>\n",
       "      <td>NJ</td>\n",
       "      <td>088XX</td>\n",
       "      <td>NaN</td>\n",
       "      <td>Consent provided</td>\n",
       "      <td>Web</td>\n",
       "      <td>2019-11-01</td>\n",
       "      <td>Closed with explanation</td>\n",
       "      <td>Yes</td>\n",
       "      <td>NaN</td>\n",
       "      <td>3425257</td>\n",
       "    </tr>\n",
       "    <tr>\n",
       "      <th>2</th>\n",
       "      <td>2019-04-01</td>\n",
       "      <td>Credit reporting, credit repair services, or o...</td>\n",
       "      <td>Credit reporting</td>\n",
       "      <td>Incorrect information on your report</td>\n",
       "      <td>Account status incorrect</td>\n",
       "      <td>NaN</td>\n",
       "      <td>Company has responded to the consumer and the ...</td>\n",
       "      <td>TRANSUNION INTERMEDIATE HOLDINGS, INC.</td>\n",
       "      <td>PA</td>\n",
       "      <td>19067</td>\n",
       "      <td>NaN</td>\n",
       "      <td>Consent not provided</td>\n",
       "      <td>Web</td>\n",
       "      <td>2019-04-01</td>\n",
       "      <td>Closed with explanation</td>\n",
       "      <td>Yes</td>\n",
       "      <td>NaN</td>\n",
       "      <td>3198225</td>\n",
       "    </tr>\n",
       "    <tr>\n",
       "      <th>3</th>\n",
       "      <td>2021-11-01</td>\n",
       "      <td>Credit reporting, credit repair services, or o...</td>\n",
       "      <td>Credit reporting</td>\n",
       "      <td>Problem with a credit reporting company's inve...</td>\n",
       "      <td>Was not notified of investigation status or re...</td>\n",
       "      <td>NaN</td>\n",
       "      <td>NaN</td>\n",
       "      <td>TRANSUNION INTERMEDIATE HOLDINGS, INC.</td>\n",
       "      <td>GA</td>\n",
       "      <td>31707</td>\n",
       "      <td>NaN</td>\n",
       "      <td>NaN</td>\n",
       "      <td>Web</td>\n",
       "      <td>2021-11-01</td>\n",
       "      <td>In progress</td>\n",
       "      <td>Yes</td>\n",
       "      <td>NaN</td>\n",
       "      <td>4863965</td>\n",
       "    </tr>\n",
       "    <tr>\n",
       "      <th>4</th>\n",
       "      <td>2021-11-02</td>\n",
       "      <td>Debt collection</td>\n",
       "      <td>Medical debt</td>\n",
       "      <td>Took or threatened to take negative or legal a...</td>\n",
       "      <td>Threatened or suggested your credit would be d...</td>\n",
       "      <td>NaN</td>\n",
       "      <td>NaN</td>\n",
       "      <td>Medical Data Systems, Inc.</td>\n",
       "      <td>VA</td>\n",
       "      <td>22033</td>\n",
       "      <td>NaN</td>\n",
       "      <td>NaN</td>\n",
       "      <td>Web</td>\n",
       "      <td>2021-11-02</td>\n",
       "      <td>In progress</td>\n",
       "      <td>Yes</td>\n",
       "      <td>NaN</td>\n",
       "      <td>4866449</td>\n",
       "    </tr>\n",
       "  </tbody>\n",
       "</table>\n",
       "</div>"
      ],
      "text/plain": [
       "  Date received                                            Product  \\\n",
       "0    2019-06-13  Credit reporting, credit repair services, or o...   \n",
       "1    2019-11-01                              Vehicle loan or lease   \n",
       "2    2019-04-01  Credit reporting, credit repair services, or o...   \n",
       "3    2021-11-01  Credit reporting, credit repair services, or o...   \n",
       "4    2021-11-02                                    Debt collection   \n",
       "\n",
       "        Sub-product                                              Issue  \\\n",
       "0  Credit reporting               Incorrect information on your report   \n",
       "1              Loan                        Struggling to pay your loan   \n",
       "2  Credit reporting               Incorrect information on your report   \n",
       "3  Credit reporting  Problem with a credit reporting company's inve...   \n",
       "4      Medical debt  Took or threatened to take negative or legal a...   \n",
       "\n",
       "                                           Sub-issue  \\\n",
       "0                Information belongs to someone else   \n",
       "1                   Denied request to lower payments   \n",
       "2                           Account status incorrect   \n",
       "3  Was not notified of investigation status or re...   \n",
       "4  Threatened or suggested your credit would be d...   \n",
       "\n",
       "                        Consumer complaint narrative  \\\n",
       "0                                                NaN   \n",
       "1  I contacted Ally on Friday XX/XX/XXXX after fa...   \n",
       "2                                                NaN   \n",
       "3                                                NaN   \n",
       "4                                                NaN   \n",
       "\n",
       "                             Company public response  \\\n",
       "0                                                NaN   \n",
       "1  Company has responded to the consumer and the ...   \n",
       "2  Company has responded to the consumer and the ...   \n",
       "3                                                NaN   \n",
       "4                                                NaN   \n",
       "\n",
       "                                  Company State ZIP code Tags  \\\n",
       "0       CAPITAL ONE FINANCIAL CORPORATION    PA    186XX  NaN   \n",
       "1                     ALLY FINANCIAL INC.    NJ    088XX  NaN   \n",
       "2  TRANSUNION INTERMEDIATE HOLDINGS, INC.    PA    19067  NaN   \n",
       "3  TRANSUNION INTERMEDIATE HOLDINGS, INC.    GA    31707  NaN   \n",
       "4              Medical Data Systems, Inc.    VA    22033  NaN   \n",
       "\n",
       "  Consumer consent provided? Submitted via Date sent to company  \\\n",
       "0       Consent not provided           Web           2019-06-13   \n",
       "1           Consent provided           Web           2019-11-01   \n",
       "2       Consent not provided           Web           2019-04-01   \n",
       "3                        NaN           Web           2021-11-01   \n",
       "4                        NaN           Web           2021-11-02   \n",
       "\n",
       "  Company response to consumer Timely response? Consumer disputed?  \\\n",
       "0      Closed with explanation              Yes                NaN   \n",
       "1      Closed with explanation              Yes                NaN   \n",
       "2      Closed with explanation              Yes                NaN   \n",
       "3                  In progress              Yes                NaN   \n",
       "4                  In progress              Yes                NaN   \n",
       "\n",
       "   Complaint ID  \n",
       "0       3274605  \n",
       "1       3425257  \n",
       "2       3198225  \n",
       "3       4863965  \n",
       "4       4866449  "
      ]
     },
     "execution_count": 5,
     "metadata": {},
     "output_type": "execute_result"
    }
   ],
   "source": [
    "data.head()"
   ]
  },
  {
   "cell_type": "code",
   "execution_count": 6,
   "id": "232fda21",
   "metadata": {},
   "outputs": [
    {
     "data": {
      "text/plain": [
       "'We are writing this letter to dispute a delinquent payment reported for XX/XX/2018 under our GM Financial account. \\nOur account was set up for autopay and we were unaware that the autopay had an expiration date. \\nAccording to customer service, the autopay ended XX/XX/2018 so our XX/XX/2018 payment was delinquent. \\nWe use autopay for many accounts and the autopay is usually continuous for the life of the loan/account. \\nWe explained to their customer service department that we didnt receive any notices that our autopay was going to be ending soon or that it needed to be renewed. They said that they dont provide these types of notifications because it is the customer who sets up the autopay. \\nWe also explained to their customer service department that we never received any phone calls that we were past due on any payments. They explained that the collections department tried to contact one of the numbers on file and was told not to call that number again. On further review of the loan application, it appears they reached out to my husbands HR department at work which he placed on the lease application to verify employment. They said that eventhough they didnt try to reach out to our cellphones, they are not required to even call us. The call they made to my husbands HR department was just a courtesy call. \\nWe would like to file a complaint against GM Financial as we do not feel GM Financial notified us appropriately before reporting a delinquency to the credit agencies. We feel that GM Financial should have either notified us that our autopay would be ending soon or that the autopay had ended. We also feel that GM financial should have called our cellphones not our HR department to reach us.'"
      ]
     },
     "execution_count": 6,
     "metadata": {},
     "output_type": "execute_result"
    }
   ],
   "source": [
    "data[\"Consumer complaint narrative\"][31]"
   ]
  },
  {
   "cell_type": "code",
   "execution_count": 7,
   "id": "c1fe71f3",
   "metadata": {},
   "outputs": [
    {
     "data": {
      "text/plain": [
       "'Vehicle loan or lease'"
      ]
     },
     "execution_count": 7,
     "metadata": {},
     "output_type": "execute_result"
    }
   ],
   "source": [
    "data[\"Product\"][31]"
   ]
  },
  {
   "cell_type": "code",
   "execution_count": 14,
   "id": "31856b98",
   "metadata": {},
   "outputs": [
    {
     "data": {
      "text/plain": [
       "\"I was looking through my report and noticed a vehicle that I returned to the dealership where it's reporting completely incorrect. I had the opportunity to talk to several lawmakers and friends, and learned some basic laws in regards to voluntary or repossession of a vehicle. Under the laws of MASS and UCC 9.506 as well as State RISA and MVISA statutes, a deficiency can not be claimed unless all of the required notices were properly and timely given, and all of the allowable redemption and cure time limits were adhered to. PLEASE HAVE THEM IMMEDIATELY REMOVE\""
      ]
     },
     "execution_count": 14,
     "metadata": {},
     "output_type": "execute_result"
    }
   ],
   "source": [
    "data[\"Consumer complaint narrative\"][301]"
   ]
  },
  {
   "cell_type": "code",
   "execution_count": 8,
   "id": "b67fe52c",
   "metadata": {},
   "outputs": [
    {
     "data": {
      "text/plain": [
       "'Credit reporting, credit repair services, or other personal consumer reports'"
      ]
     },
     "execution_count": 8,
     "metadata": {},
     "output_type": "execute_result"
    }
   ],
   "source": [
    "data[\"Product\"][301]"
   ]
  },
  {
   "cell_type": "markdown",
   "id": "fed95ca1",
   "metadata": {},
   "source": [
    "### Select only 'product' and 'Consumer complaint narrative' columns"
   ]
  },
  {
   "cell_type": "code",
   "execution_count": 9,
   "id": "28c67ba7",
   "metadata": {},
   "outputs": [],
   "source": [
    "data = data[[\"Product\", \"Consumer complaint narrative\"]]"
   ]
  },
  {
   "cell_type": "code",
   "execution_count": 10,
   "id": "74d6a8c6",
   "metadata": {},
   "outputs": [
    {
     "data": {
      "text/html": [
       "<div>\n",
       "<style scoped>\n",
       "    .dataframe tbody tr th:only-of-type {\n",
       "        vertical-align: middle;\n",
       "    }\n",
       "\n",
       "    .dataframe tbody tr th {\n",
       "        vertical-align: top;\n",
       "    }\n",
       "\n",
       "    .dataframe thead th {\n",
       "        text-align: right;\n",
       "    }\n",
       "</style>\n",
       "<table border=\"1\" class=\"dataframe\">\n",
       "  <thead>\n",
       "    <tr style=\"text-align: right;\">\n",
       "      <th></th>\n",
       "      <th>Product</th>\n",
       "      <th>Consumer complaint narrative</th>\n",
       "    </tr>\n",
       "  </thead>\n",
       "  <tbody>\n",
       "    <tr>\n",
       "      <th>0</th>\n",
       "      <td>Credit reporting, credit repair services, or o...</td>\n",
       "      <td>NaN</td>\n",
       "    </tr>\n",
       "    <tr>\n",
       "      <th>1</th>\n",
       "      <td>Vehicle loan or lease</td>\n",
       "      <td>I contacted Ally on Friday XX/XX/XXXX after fa...</td>\n",
       "    </tr>\n",
       "    <tr>\n",
       "      <th>2</th>\n",
       "      <td>Credit reporting, credit repair services, or o...</td>\n",
       "      <td>NaN</td>\n",
       "    </tr>\n",
       "    <tr>\n",
       "      <th>3</th>\n",
       "      <td>Credit reporting, credit repair services, or o...</td>\n",
       "      <td>NaN</td>\n",
       "    </tr>\n",
       "    <tr>\n",
       "      <th>4</th>\n",
       "      <td>Debt collection</td>\n",
       "      <td>NaN</td>\n",
       "    </tr>\n",
       "  </tbody>\n",
       "</table>\n",
       "</div>"
      ],
      "text/plain": [
       "                                             Product  \\\n",
       "0  Credit reporting, credit repair services, or o...   \n",
       "1                              Vehicle loan or lease   \n",
       "2  Credit reporting, credit repair services, or o...   \n",
       "3  Credit reporting, credit repair services, or o...   \n",
       "4                                    Debt collection   \n",
       "\n",
       "                        Consumer complaint narrative  \n",
       "0                                                NaN  \n",
       "1  I contacted Ally on Friday XX/XX/XXXX after fa...  \n",
       "2                                                NaN  \n",
       "3                                                NaN  \n",
       "4                                                NaN  "
      ]
     },
     "execution_count": 10,
     "metadata": {},
     "output_type": "execute_result"
    }
   ],
   "source": [
    "data.head()"
   ]
  },
  {
   "cell_type": "code",
   "execution_count": 11,
   "id": "7776d736",
   "metadata": {},
   "outputs": [
    {
     "data": {
      "text/plain": [
       "Product                               0\n",
       "Consumer complaint narrative    1516903\n",
       "dtype: int64"
      ]
     },
     "execution_count": 11,
     "metadata": {},
     "output_type": "execute_result"
    }
   ],
   "source": [
    "data.isna().sum()"
   ]
  },
  {
   "cell_type": "markdown",
   "id": "335ddcf3",
   "metadata": {},
   "source": [
    "### Drop records with missing complaints"
   ]
  },
  {
   "cell_type": "code",
   "execution_count": 12,
   "id": "b41c8e33",
   "metadata": {},
   "outputs": [],
   "source": [
    "data.dropna(inplace=True)"
   ]
  },
  {
   "cell_type": "code",
   "execution_count": 13,
   "id": "093a1f89",
   "metadata": {},
   "outputs": [
    {
     "data": {
      "text/plain": [
       "(809343, 2)"
      ]
     },
     "execution_count": 13,
     "metadata": {},
     "output_type": "execute_result"
    }
   ],
   "source": [
    "data.shape"
   ]
  },
  {
   "cell_type": "code",
   "execution_count": 14,
   "id": "759169cd",
   "metadata": {},
   "outputs": [],
   "source": [
    "data.rename({\"Consumer complaint narrative\": \"Complaint\"}, \n",
    "            axis=1, inplace=True)"
   ]
  },
  {
   "cell_type": "code",
   "execution_count": 15,
   "id": "cb856432",
   "metadata": {},
   "outputs": [
    {
     "data": {
      "text/html": [
       "<div>\n",
       "<style scoped>\n",
       "    .dataframe tbody tr th:only-of-type {\n",
       "        vertical-align: middle;\n",
       "    }\n",
       "\n",
       "    .dataframe tbody tr th {\n",
       "        vertical-align: top;\n",
       "    }\n",
       "\n",
       "    .dataframe thead th {\n",
       "        text-align: right;\n",
       "    }\n",
       "</style>\n",
       "<table border=\"1\" class=\"dataframe\">\n",
       "  <thead>\n",
       "    <tr style=\"text-align: right;\">\n",
       "      <th></th>\n",
       "      <th>Product</th>\n",
       "      <th>Complaint</th>\n",
       "    </tr>\n",
       "  </thead>\n",
       "  <tbody>\n",
       "    <tr>\n",
       "      <th>1</th>\n",
       "      <td>Vehicle loan or lease</td>\n",
       "      <td>I contacted Ally on Friday XX/XX/XXXX after fa...</td>\n",
       "    </tr>\n",
       "    <tr>\n",
       "      <th>7</th>\n",
       "      <td>Credit reporting, credit repair services, or o...</td>\n",
       "      <td>Hello This complaint is against the three cred...</td>\n",
       "    </tr>\n",
       "    <tr>\n",
       "      <th>8</th>\n",
       "      <td>Credit reporting, credit repair services, or o...</td>\n",
       "      <td>I am a victim of Identity Theft &amp; currently ha...</td>\n",
       "    </tr>\n",
       "    <tr>\n",
       "      <th>10</th>\n",
       "      <td>Credit reporting, credit repair services, or o...</td>\n",
       "      <td>Two accounts are still on my credit history af...</td>\n",
       "    </tr>\n",
       "    <tr>\n",
       "      <th>13</th>\n",
       "      <td>Credit reporting, credit repair services, or o...</td>\n",
       "      <td>Receiving daily telephone call ( s ) from XXXX...</td>\n",
       "    </tr>\n",
       "  </tbody>\n",
       "</table>\n",
       "</div>"
      ],
      "text/plain": [
       "                                              Product  \\\n",
       "1                               Vehicle loan or lease   \n",
       "7   Credit reporting, credit repair services, or o...   \n",
       "8   Credit reporting, credit repair services, or o...   \n",
       "10  Credit reporting, credit repair services, or o...   \n",
       "13  Credit reporting, credit repair services, or o...   \n",
       "\n",
       "                                            Complaint  \n",
       "1   I contacted Ally on Friday XX/XX/XXXX after fa...  \n",
       "7   Hello This complaint is against the three cred...  \n",
       "8   I am a victim of Identity Theft & currently ha...  \n",
       "10  Two accounts are still on my credit history af...  \n",
       "13  Receiving daily telephone call ( s ) from XXXX...  "
      ]
     },
     "execution_count": 15,
     "metadata": {},
     "output_type": "execute_result"
    }
   ],
   "source": [
    "data.head()"
   ]
  },
  {
   "cell_type": "code",
   "execution_count": 16,
   "id": "28ae91c9",
   "metadata": {},
   "outputs": [
    {
     "data": {
      "text/plain": [
       "array(['Vehicle loan or lease',\n",
       "       'Credit reporting, credit repair services, or other personal consumer reports',\n",
       "       'Credit card or prepaid card',\n",
       "       'Money transfer, virtual currency, or money service', 'Mortgage',\n",
       "       'Payday loan, title loan, or personal loan', 'Debt collection',\n",
       "       'Checking or savings account', 'Student loan', 'Consumer Loan',\n",
       "       'Money transfers', 'Credit card', 'Bank account or service',\n",
       "       'Credit reporting', 'Prepaid card', 'Payday loan',\n",
       "       'Other financial service', 'Virtual currency'], dtype=object)"
      ]
     },
     "execution_count": 16,
     "metadata": {},
     "output_type": "execute_result"
    }
   ],
   "source": [
    "data[\"Product\"].unique()"
   ]
  },
  {
   "cell_type": "markdown",
   "id": "8651b7cf",
   "metadata": {},
   "source": [
    "### Create unique values for 'product'"
   ]
  },
  {
   "cell_type": "code",
   "execution_count": 17,
   "id": "1b3cf73e",
   "metadata": {},
   "outputs": [],
   "source": [
    "product_map = {'Vehicle loan or lease': 'vehicle_loan',\n",
    "              'Credit reporting, credit repair services, or other personal consumer reports':'credit_report',\n",
    "              'Credit card or prepaid card': 'card',\n",
    "              'Money transfer, virtual currency, or money service': 'money_transfer',\n",
    "              'virtual currency': 'money_transfer',\n",
    "              'Mortgage': 'mortgage',\n",
    "               'Payday loan, title loan, or personal loan': 'loan',\n",
    "               'Debt collection': 'debt_collection',\n",
    "               'Checking or savings account': 'savings_account',\n",
    "               'Credit card': 'card',\n",
    "               'Bank account or service': 'savings_account',\n",
    "               'Credit reporting': 'credit_report',\n",
    "               'Prepaid card': 'card',\n",
    "               'Payday loan': 'loan',\n",
    "               'Other financial service': 'others',\n",
    "               'Virtual currency': 'money_transfer',\n",
    "               'Student loan': 'loan',\n",
    "               'Consumer Loan': 'loan',\n",
    "               'Money transfers': 'money_transfer'\n",
    "              }"
   ]
  },
  {
   "cell_type": "code",
   "execution_count": 18,
   "id": "5ef92393",
   "metadata": {},
   "outputs": [],
   "source": [
    "data.replace({\"Product\": product_map}, inplace=True)"
   ]
  },
  {
   "cell_type": "code",
   "execution_count": 19,
   "id": "ac23540c",
   "metadata": {},
   "outputs": [
    {
     "data": {
      "text/html": [
       "<div>\n",
       "<style scoped>\n",
       "    .dataframe tbody tr th:only-of-type {\n",
       "        vertical-align: middle;\n",
       "    }\n",
       "\n",
       "    .dataframe tbody tr th {\n",
       "        vertical-align: top;\n",
       "    }\n",
       "\n",
       "    .dataframe thead th {\n",
       "        text-align: right;\n",
       "    }\n",
       "</style>\n",
       "<table border=\"1\" class=\"dataframe\">\n",
       "  <thead>\n",
       "    <tr style=\"text-align: right;\">\n",
       "      <th></th>\n",
       "      <th>Product</th>\n",
       "      <th>Complaint</th>\n",
       "    </tr>\n",
       "  </thead>\n",
       "  <tbody>\n",
       "    <tr>\n",
       "      <th>1</th>\n",
       "      <td>vehicle_loan</td>\n",
       "      <td>I contacted Ally on Friday XX/XX/XXXX after fa...</td>\n",
       "    </tr>\n",
       "    <tr>\n",
       "      <th>7</th>\n",
       "      <td>credit_report</td>\n",
       "      <td>Hello This complaint is against the three cred...</td>\n",
       "    </tr>\n",
       "    <tr>\n",
       "      <th>8</th>\n",
       "      <td>credit_report</td>\n",
       "      <td>I am a victim of Identity Theft &amp; currently ha...</td>\n",
       "    </tr>\n",
       "    <tr>\n",
       "      <th>10</th>\n",
       "      <td>credit_report</td>\n",
       "      <td>Two accounts are still on my credit history af...</td>\n",
       "    </tr>\n",
       "    <tr>\n",
       "      <th>13</th>\n",
       "      <td>credit_report</td>\n",
       "      <td>Receiving daily telephone call ( s ) from XXXX...</td>\n",
       "    </tr>\n",
       "  </tbody>\n",
       "</table>\n",
       "</div>"
      ],
      "text/plain": [
       "          Product                                          Complaint\n",
       "1    vehicle_loan  I contacted Ally on Friday XX/XX/XXXX after fa...\n",
       "7   credit_report  Hello This complaint is against the three cred...\n",
       "8   credit_report  I am a victim of Identity Theft & currently ha...\n",
       "10  credit_report  Two accounts are still on my credit history af...\n",
       "13  credit_report  Receiving daily telephone call ( s ) from XXXX..."
      ]
     },
     "execution_count": 19,
     "metadata": {},
     "output_type": "execute_result"
    }
   ],
   "source": [
    "data.head()"
   ]
  },
  {
   "cell_type": "markdown",
   "id": "8e8a20e3",
   "metadata": {},
   "source": [
    "### Plot distribution of 'product' column"
   ]
  },
  {
   "cell_type": "code",
   "execution_count": 20,
   "id": "7e13f4c3",
   "metadata": {},
   "outputs": [
    {
     "data": {
      "image/png": "[encoded data removed]",
      "text/plain": [
       "<Figure size 432x288 with 1 Axes>"
      ]
     },
     "metadata": {
      "needs_background": "light"
     },
     "output_type": "display_data"
    }
   ],
   "source": [
    "sns.countplot(x=\"Product\", data=data)\n",
    "plt.xticks(rotation=90)\n",
    "plt.show()"
   ]
  },
  {
   "cell_type": "code",
   "execution_count": 21,
   "id": "a36977a5",
   "metadata": {},
   "outputs": [
    {
     "data": {
      "text/plain": [
       "credit_report      348053\n",
       "debt_collection    157381\n",
       "mortgage            84461\n",
       "card                81042\n",
       "savings_account     52274\n",
       "loan                50710\n",
       "money_transfer      20096\n",
       "vehicle_loan        15034\n",
       "others                292\n",
       "Name: Product, dtype: int64"
      ]
     },
     "execution_count": 21,
     "metadata": {},
     "output_type": "execute_result"
    }
   ],
   "source": [
    "data[\"Product\"].value_counts()"
   ]
  },
  {
   "cell_type": "code",
   "execution_count": 22,
   "id": "d0721c3d",
   "metadata": {},
   "outputs": [],
   "source": [
    "complaints = list(data[\"Complaint\"])"
   ]
  },
  {
   "cell_type": "code",
   "execution_count": 23,
   "id": "dc85f66b",
   "metadata": {},
   "outputs": [
    {
     "data": {
      "text/plain": [
       "809343"
      ]
     },
     "execution_count": 23,
     "metadata": {},
     "output_type": "execute_result"
    }
   ],
   "source": [
    "len(complaints)"
   ]
  },
  {
   "cell_type": "markdown",
   "id": "6211e473",
   "metadata": {},
   "source": [
    "### Convert data to lower case"
   ]
  },
  {
   "cell_type": "code",
   "execution_count": 24,
   "id": "c1f77e46",
   "metadata": {},
   "outputs": [
    {
     "name": "stderr",
     "output_type": "stream",
     "text": [
      "100%|██████████████████████████████████████████████████████████████████████| 809343/809343 [00:01<00:00, 405056.25it/s]\n"
     ]
    }
   ],
   "source": [
    "complaints = [c.lower() for c in tqdm(complaints)]"
   ]
  },
  {
   "cell_type": "code",
   "execution_count": 25,
   "id": "074e75dd",
   "metadata": {},
   "outputs": [
    {
     "data": {
      "text/plain": [
       "'my credit reports list monies owed to xxxx. i have written to the collection agency, xxxx xxxx xxxx requesting proof that i owe monies on this account, but none was ever sent. i notified the credit agencies that this creditor never sent me the required proof, yet they continue to list this account on my credit report. \\n\\nmy credit reports list xxxx xxxx xxxx and xxxx for monies owed to xxxx. i submitted documentation that showed that the original creditor was paid however, the credit reporting agencies continue to list xxxx xxxx on my credit report. furthermore, two separate collection agencies can not be listed on my creditreport over the same account. \\n\\nmy credit reports list a bankruptcy that should have been deleted since the 7 years of reporting it has expired.'"
      ]
     },
     "execution_count": 25,
     "metadata": {},
     "output_type": "execute_result"
    }
   ],
   "source": [
    "complaints[13]"
   ]
  },
  {
   "cell_type": "code",
   "execution_count": 26,
   "id": "917213d0",
   "metadata": {},
   "outputs": [
    {
     "data": {
      "text/plain": [
       "'xxxx xxxx  sent me a email that it looked like my personal data may had been compromised. i opened it up and reviewed everything and there was several unknown inquiries and accounts that certainly did not belong to me. i pulled my credit to make sure, and these accounts i am reporting are definitely not mine. please remove these items from my report. \\n\\nbankruptcy chapter xxxx-dismissed xxxx {$0.00}'"
      ]
     },
     "execution_count": 26,
     "metadata": {},
     "output_type": "execute_result"
    }
   ],
   "source": [
    "complaints[3401]"
   ]
  },
  {
   "cell_type": "markdown",
   "id": "608d00f4",
   "metadata": {},
   "source": [
    "### Tokenize the text"
   ]
  },
  {
   "cell_type": "code",
   "execution_count": 27,
   "id": "a498ce3f",
   "metadata": {},
   "outputs": [
    {
     "name": "stderr",
     "output_type": "stream",
     "text": [
      "100%|█████████████████████████████████████████████████████████████████████████| 809343/809343 [42:32<00:00, 317.08it/s]\n"
     ]
    }
   ],
   "source": [
    "tokens = [word_tokenize(c) for c in tqdm(complaints)]"
   ]
  },
  {
   "cell_type": "code",
   "execution_count": 28,
   "id": "3fb95524",
   "metadata": {},
   "outputs": [
    {
     "data": {
      "text/plain": [
       "['my',\n",
       " 'credit',\n",
       " 'reports',\n",
       " 'list',\n",
       " 'monies',\n",
       " 'owed',\n",
       " 'to',\n",
       " 'xxxx',\n",
       " '.',\n",
       " 'i',\n",
       " 'have',\n",
       " 'written',\n",
       " 'to',\n",
       " 'the',\n",
       " 'collection',\n",
       " 'agency',\n",
       " ',',\n",
       " 'xxxx',\n",
       " 'xxxx',\n",
       " 'xxxx',\n",
       " 'requesting',\n",
       " 'proof',\n",
       " 'that',\n",
       " 'i',\n",
       " 'owe',\n",
       " 'monies',\n",
       " 'on',\n",
       " 'this',\n",
       " 'account',\n",
       " ',',\n",
       " 'but',\n",
       " 'none',\n",
       " 'was',\n",
       " 'ever',\n",
       " 'sent',\n",
       " '.',\n",
       " 'i',\n",
       " 'notified',\n",
       " 'the',\n",
       " 'credit',\n",
       " 'agencies',\n",
       " 'that',\n",
       " 'this',\n",
       " 'creditor',\n",
       " 'never',\n",
       " 'sent',\n",
       " 'me',\n",
       " 'the',\n",
       " 'required',\n",
       " 'proof',\n",
       " ',',\n",
       " 'yet',\n",
       " 'they',\n",
       " 'continue',\n",
       " 'to',\n",
       " 'list',\n",
       " 'this',\n",
       " 'account',\n",
       " 'on',\n",
       " 'my',\n",
       " 'credit',\n",
       " 'report',\n",
       " '.',\n",
       " 'my',\n",
       " 'credit',\n",
       " 'reports',\n",
       " 'list',\n",
       " 'xxxx',\n",
       " 'xxxx',\n",
       " 'xxxx',\n",
       " 'and',\n",
       " 'xxxx',\n",
       " 'for',\n",
       " 'monies',\n",
       " 'owed',\n",
       " 'to',\n",
       " 'xxxx',\n",
       " '.',\n",
       " 'i',\n",
       " 'submitted',\n",
       " 'documentation',\n",
       " 'that',\n",
       " 'showed',\n",
       " 'that',\n",
       " 'the',\n",
       " 'original',\n",
       " 'creditor',\n",
       " 'was',\n",
       " 'paid',\n",
       " 'however',\n",
       " ',',\n",
       " 'the',\n",
       " 'credit',\n",
       " 'reporting',\n",
       " 'agencies',\n",
       " 'continue',\n",
       " 'to',\n",
       " 'list',\n",
       " 'xxxx',\n",
       " 'xxxx',\n",
       " 'on',\n",
       " 'my',\n",
       " 'credit',\n",
       " 'report',\n",
       " '.',\n",
       " 'furthermore',\n",
       " ',',\n",
       " 'two',\n",
       " 'separate',\n",
       " 'collection',\n",
       " 'agencies',\n",
       " 'can',\n",
       " 'not',\n",
       " 'be',\n",
       " 'listed',\n",
       " 'on',\n",
       " 'my',\n",
       " 'creditreport',\n",
       " 'over',\n",
       " 'the',\n",
       " 'same',\n",
       " 'account',\n",
       " '.',\n",
       " 'my',\n",
       " 'credit',\n",
       " 'reports',\n",
       " 'list',\n",
       " 'a',\n",
       " 'bankruptcy',\n",
       " 'that',\n",
       " 'should',\n",
       " 'have',\n",
       " 'been',\n",
       " 'deleted',\n",
       " 'since',\n",
       " 'the',\n",
       " '7',\n",
       " 'years',\n",
       " 'of',\n",
       " 'reporting',\n",
       " 'it',\n",
       " 'has',\n",
       " 'expired',\n",
       " '.']"
      ]
     },
     "execution_count": 28,
     "metadata": {},
     "output_type": "execute_result"
    }
   ],
   "source": [
    "tokens[13]"
   ]
  },
  {
   "cell_type": "code",
   "execution_count": 29,
   "id": "85e40fcd",
   "metadata": {},
   "outputs": [
    {
     "data": {
      "text/plain": [
       "['xxxx',\n",
       " 'xxxx',\n",
       " 'sent',\n",
       " 'me',\n",
       " 'a',\n",
       " 'email',\n",
       " 'that',\n",
       " 'it',\n",
       " 'looked',\n",
       " 'like',\n",
       " 'my',\n",
       " 'personal',\n",
       " 'data',\n",
       " 'may',\n",
       " 'had',\n",
       " 'been',\n",
       " 'compromised',\n",
       " '.',\n",
       " 'i',\n",
       " 'opened',\n",
       " 'it',\n",
       " 'up',\n",
       " 'and',\n",
       " 'reviewed',\n",
       " 'everything',\n",
       " 'and',\n",
       " 'there',\n",
       " 'was',\n",
       " 'several',\n",
       " 'unknown',\n",
       " 'inquiries',\n",
       " 'and',\n",
       " 'accounts',\n",
       " 'that',\n",
       " 'certainly',\n",
       " 'did',\n",
       " 'not',\n",
       " 'belong',\n",
       " 'to',\n",
       " 'me',\n",
       " '.',\n",
       " 'i',\n",
       " 'pulled',\n",
       " 'my',\n",
       " 'credit',\n",
       " 'to',\n",
       " 'make',\n",
       " 'sure',\n",
       " ',',\n",
       " 'and',\n",
       " 'these',\n",
       " 'accounts',\n",
       " 'i',\n",
       " 'am',\n",
       " 'reporting',\n",
       " 'are',\n",
       " 'definitely',\n",
       " 'not',\n",
       " 'mine',\n",
       " '.',\n",
       " 'please',\n",
       " 'remove',\n",
       " 'these',\n",
       " 'items',\n",
       " 'from',\n",
       " 'my',\n",
       " 'report',\n",
       " '.',\n",
       " 'bankruptcy',\n",
       " 'chapter',\n",
       " 'xxxx-dismissed',\n",
       " 'xxxx',\n",
       " '{',\n",
       " '$',\n",
       " '0.00',\n",
       " '}']"
      ]
     },
     "execution_count": 29,
     "metadata": {},
     "output_type": "execute_result"
    }
   ],
   "source": [
    "tokens[3401]"
   ]
  },
  {
   "cell_type": "markdown",
   "id": "116d4811",
   "metadata": {},
   "source": [
    "### Remove stop words"
   ]
  },
  {
   "cell_type": "code",
   "execution_count": 30,
   "id": "8c32daad",
   "metadata": {},
   "outputs": [],
   "source": [
    "sw = stopwords.words(\"english\")"
   ]
  },
  {
   "cell_type": "code",
   "execution_count": 31,
   "id": "a5758bd3",
   "metadata": {},
   "outputs": [
    {
     "data": {
      "text/plain": [
       "['i', 'me', 'my', 'myself', 'we', 'our', 'ours', 'ourselves', 'you', \"you're\"]"
      ]
     },
     "execution_count": 31,
     "metadata": {},
     "output_type": "execute_result"
    }
   ],
   "source": [
    "sw[:10]"
   ]
  },
  {
   "cell_type": "code",
   "execution_count": null,
   "id": "739409eb",
   "metadata": {},
   "outputs": [
    {
     "name": "stderr",
     "output_type": "stream",
     "text": [
      "  8%|█████▌                                                                   | 61163/809343 [00:58<11:11, 1114.09it/s]"
     ]
    }
   ],
   "source": [
    "tokens = [[word for word in t if word not in sw] for t in tqdm(tokens)]"
   ]
  },
  {
   "cell_type": "markdown",
   "id": "fc284da4",
   "metadata": {},
   "source": [
    "### Remove punctuation marks"
   ]
  },
  {
   "cell_type": "code",
   "execution_count": 35,
   "id": "b82ee710",
   "metadata": {},
   "outputs": [],
   "source": [
    "tokenizer = RegexpTokenizer(r'\\w+')"
   ]
  },
  {
   "cell_type": "code",
   "execution_count": 36,
   "id": "69de2b85",
   "metadata": {},
   "outputs": [
    {
     "name": "stderr",
     "output_type": "stream",
     "text": [
      "100%|██████████| 809343/809343 [05:48<00:00, 2325.34it/s] \n"
     ]
    }
   ],
   "source": [
    "tokens = [[\"\".join(tokenizer.tokenize(word)) for word in t \n",
    "          if len(tokenizer.tokenize(word)) > 0] for t in tqdm(tokens)]"
   ]
  },
  {
   "cell_type": "code",
   "execution_count": 37,
   "id": "3d2565dc",
   "metadata": {},
   "outputs": [
    {
     "data": {
      "text/plain": [
       "['credit',\n",
       " 'reports',\n",
       " 'list',\n",
       " 'monies',\n",
       " 'owed',\n",
       " 'xxxx',\n",
       " 'written',\n",
       " 'collection',\n",
       " 'agency',\n",
       " 'xxxx',\n",
       " 'xxxx',\n",
       " 'xxxx',\n",
       " 'requesting',\n",
       " 'proof',\n",
       " 'owe',\n",
       " 'monies',\n",
       " 'account',\n",
       " 'none',\n",
       " 'ever',\n",
       " 'sent',\n",
       " 'notified',\n",
       " 'credit',\n",
       " 'agencies',\n",
       " 'creditor',\n",
       " 'never',\n",
       " 'sent',\n",
       " 'required',\n",
       " 'proof',\n",
       " 'yet',\n",
       " 'continue',\n",
       " 'list',\n",
       " 'account',\n",
       " 'credit',\n",
       " 'report',\n",
       " 'credit',\n",
       " 'reports',\n",
       " 'list',\n",
       " 'xxxx',\n",
       " 'xxxx',\n",
       " 'xxxx',\n",
       " 'xxxx',\n",
       " 'monies',\n",
       " 'owed',\n",
       " 'xxxx',\n",
       " 'submitted',\n",
       " 'documentation',\n",
       " 'showed',\n",
       " 'original',\n",
       " 'creditor',\n",
       " 'paid',\n",
       " 'however',\n",
       " 'credit',\n",
       " 'reporting',\n",
       " 'agencies',\n",
       " 'continue',\n",
       " 'list',\n",
       " 'xxxx',\n",
       " 'xxxx',\n",
       " 'credit',\n",
       " 'report',\n",
       " 'furthermore',\n",
       " 'two',\n",
       " 'separate',\n",
       " 'collection',\n",
       " 'agencies',\n",
       " 'listed',\n",
       " 'creditreport',\n",
       " 'account',\n",
       " 'credit',\n",
       " 'reports',\n",
       " 'list',\n",
       " 'bankruptcy',\n",
       " 'deleted',\n",
       " 'since',\n",
       " '7',\n",
       " 'years',\n",
       " 'reporting',\n",
       " 'expired']"
      ]
     },
     "execution_count": 37,
     "metadata": {},
     "output_type": "execute_result"
    }
   ],
   "source": [
    "tokens[13]"
   ]
  },
  {
   "cell_type": "code",
   "execution_count": 38,
   "id": "372547fd",
   "metadata": {},
   "outputs": [
    {
     "data": {
      "text/plain": [
       "['xxxx',\n",
       " 'xxxx',\n",
       " 'sent',\n",
       " 'email',\n",
       " 'looked',\n",
       " 'like',\n",
       " 'personal',\n",
       " 'data',\n",
       " 'may',\n",
       " 'compromised',\n",
       " 'opened',\n",
       " 'reviewed',\n",
       " 'everything',\n",
       " 'several',\n",
       " 'unknown',\n",
       " 'inquiries',\n",
       " 'accounts',\n",
       " 'certainly',\n",
       " 'belong',\n",
       " 'pulled',\n",
       " 'credit',\n",
       " 'make',\n",
       " 'sure',\n",
       " 'accounts',\n",
       " 'reporting',\n",
       " 'definitely',\n",
       " 'mine',\n",
       " 'please',\n",
       " 'remove',\n",
       " 'items',\n",
       " 'report',\n",
       " 'bankruptcy',\n",
       " 'chapter',\n",
       " 'xxxxdismissed',\n",
       " 'xxxx',\n",
       " '000']"
      ]
     },
     "execution_count": 38,
     "metadata": {},
     "output_type": "execute_result"
    }
   ],
   "source": [
    "tokens[3401]"
   ]
  },
  {
   "cell_type": "markdown",
   "id": "9da0b760",
   "metadata": {},
   "source": [
    "### Remove 'xxxx' and '000' tokens"
   ]
  },
  {
   "cell_type": "code",
   "execution_count": 39,
   "id": "82055e13",
   "metadata": {},
   "outputs": [
    {
     "name": "stderr",
     "output_type": "stream",
     "text": [
      "100%|██████████| 809343/809343 [02:20<00:00, 5773.08it/s] \n"
     ]
    }
   ],
   "source": [
    "tokens = [[t for t in token if t not in ['xxxx','000']] for token in tqdm(tokens)]"
   ]
  },
  {
   "cell_type": "code",
   "execution_count": 40,
   "id": "4164a45d",
   "metadata": {},
   "outputs": [
    {
     "data": {
      "text/plain": [
       "['credit',\n",
       " 'reports',\n",
       " 'list',\n",
       " 'monies',\n",
       " 'owed',\n",
       " 'written',\n",
       " 'collection',\n",
       " 'agency',\n",
       " 'requesting',\n",
       " 'proof',\n",
       " 'owe',\n",
       " 'monies',\n",
       " 'account',\n",
       " 'none',\n",
       " 'ever',\n",
       " 'sent',\n",
       " 'notified',\n",
       " 'credit',\n",
       " 'agencies',\n",
       " 'creditor',\n",
       " 'never',\n",
       " 'sent',\n",
       " 'required',\n",
       " 'proof',\n",
       " 'yet',\n",
       " 'continue',\n",
       " 'list',\n",
       " 'account',\n",
       " 'credit',\n",
       " 'report',\n",
       " 'credit',\n",
       " 'reports',\n",
       " 'list',\n",
       " 'monies',\n",
       " 'owed',\n",
       " 'submitted',\n",
       " 'documentation',\n",
       " 'showed',\n",
       " 'original',\n",
       " 'creditor',\n",
       " 'paid',\n",
       " 'however',\n",
       " 'credit',\n",
       " 'reporting',\n",
       " 'agencies',\n",
       " 'continue',\n",
       " 'list',\n",
       " 'credit',\n",
       " 'report',\n",
       " 'furthermore',\n",
       " 'two',\n",
       " 'separate',\n",
       " 'collection',\n",
       " 'agencies',\n",
       " 'listed',\n",
       " 'creditreport',\n",
       " 'account',\n",
       " 'credit',\n",
       " 'reports',\n",
       " 'list',\n",
       " 'bankruptcy',\n",
       " 'deleted',\n",
       " 'since',\n",
       " '7',\n",
       " 'years',\n",
       " 'reporting',\n",
       " 'expired']"
      ]
     },
     "execution_count": 40,
     "metadata": {},
     "output_type": "execute_result"
    }
   ],
   "source": [
    "tokens[13]"
   ]
  },
  {
   "cell_type": "code",
   "execution_count": 41,
   "id": "0cc2e50c",
   "metadata": {
    "scrolled": true
   },
   "outputs": [
    {
     "data": {
      "text/plain": [
       "['sent',\n",
       " 'email',\n",
       " 'looked',\n",
       " 'like',\n",
       " 'personal',\n",
       " 'data',\n",
       " 'may',\n",
       " 'compromised',\n",
       " 'opened',\n",
       " 'reviewed',\n",
       " 'everything',\n",
       " 'several',\n",
       " 'unknown',\n",
       " 'inquiries',\n",
       " 'accounts',\n",
       " 'certainly',\n",
       " 'belong',\n",
       " 'pulled',\n",
       " 'credit',\n",
       " 'make',\n",
       " 'sure',\n",
       " 'accounts',\n",
       " 'reporting',\n",
       " 'definitely',\n",
       " 'mine',\n",
       " 'please',\n",
       " 'remove',\n",
       " 'items',\n",
       " 'report',\n",
       " 'bankruptcy',\n",
       " 'chapter',\n",
       " 'xxxxdismissed']"
      ]
     },
     "execution_count": 41,
     "metadata": {},
     "output_type": "execute_result"
    }
   ],
   "source": [
    "tokens[3401]"
   ]
  },
  {
   "cell_type": "markdown",
   "id": "4d3de69f",
   "metadata": {},
   "source": [
    "### Check word count for couple of classes"
   ]
  },
  {
   "cell_type": "code",
   "execution_count": 47,
   "id": "925f68f4",
   "metadata": {},
   "outputs": [
    {
     "name": "stderr",
     "output_type": "stream",
     "text": [
      "<ipython-input-47-9ba6f2e602ec>:1: SettingWithCopyWarning: \n",
      "A value is trying to be set on a copy of a slice from a DataFrame.\n",
      "Try using .loc[row_indexer,col_indexer] = value instead\n",
      "\n",
      "See the caveats in the documentation: https://pandas.pydata.org/pandas-docs/stable/user_guide/indexing.html#returning-a-view-versus-a-copy\n",
      "  data[\"clean_complaints\"] = tokens\n"
     ]
    }
   ],
   "source": [
    "data[\"clean_complaints\"] = tokens"
   ]
  },
  {
   "cell_type": "code",
   "execution_count": 48,
   "id": "7021d757",
   "metadata": {},
   "outputs": [
    {
     "data": {
      "text/html": [
       "<div>\n",
       "<style scoped>\n",
       "    .dataframe tbody tr th:only-of-type {\n",
       "        vertical-align: middle;\n",
       "    }\n",
       "\n",
       "    .dataframe tbody tr th {\n",
       "        vertical-align: top;\n",
       "    }\n",
       "\n",
       "    .dataframe thead th {\n",
       "        text-align: right;\n",
       "    }\n",
       "</style>\n",
       "<table border=\"1\" class=\"dataframe\">\n",
       "  <thead>\n",
       "    <tr style=\"text-align: right;\">\n",
       "      <th></th>\n",
       "      <th>Product</th>\n",
       "      <th>Complaint</th>\n",
       "      <th>clean_complaints</th>\n",
       "    </tr>\n",
       "  </thead>\n",
       "  <tbody>\n",
       "    <tr>\n",
       "      <th>1</th>\n",
       "      <td>vehicle_loan</td>\n",
       "      <td>I contacted Ally on Friday XX/XX/XXXX after fa...</td>\n",
       "      <td>[contacted, ally, friday, xxxxxxxx, falling, b...</td>\n",
       "    </tr>\n",
       "    <tr>\n",
       "      <th>7</th>\n",
       "      <td>credit_report</td>\n",
       "      <td>Hello This complaint is against the three cred...</td>\n",
       "      <td>[hello, complaint, three, credit, reporting, c...</td>\n",
       "    </tr>\n",
       "    <tr>\n",
       "      <th>8</th>\n",
       "      <td>credit_report</td>\n",
       "      <td>I am a victim of Identity Theft &amp; currently ha...</td>\n",
       "      <td>[victim, identity, theft, currently, experian,...</td>\n",
       "    </tr>\n",
       "    <tr>\n",
       "      <th>10</th>\n",
       "      <td>credit_report</td>\n",
       "      <td>Two accounts are still on my credit history af...</td>\n",
       "      <td>[two, accounts, still, credit, history, contac...</td>\n",
       "    </tr>\n",
       "    <tr>\n",
       "      <th>13</th>\n",
       "      <td>credit_report</td>\n",
       "      <td>Receiving daily telephone call ( s ) from XXXX...</td>\n",
       "      <td>[receiving, daily, telephone, call, identifyin...</td>\n",
       "    </tr>\n",
       "  </tbody>\n",
       "</table>\n",
       "</div>"
      ],
      "text/plain": [
       "          Product                                          Complaint  \\\n",
       "1    vehicle_loan  I contacted Ally on Friday XX/XX/XXXX after fa...   \n",
       "7   credit_report  Hello This complaint is against the three cred...   \n",
       "8   credit_report  I am a victim of Identity Theft & currently ha...   \n",
       "10  credit_report  Two accounts are still on my credit history af...   \n",
       "13  credit_report  Receiving daily telephone call ( s ) from XXXX...   \n",
       "\n",
       "                                     clean_complaints  \n",
       "1   [contacted, ally, friday, xxxxxxxx, falling, b...  \n",
       "7   [hello, complaint, three, credit, reporting, c...  \n",
       "8   [victim, identity, theft, currently, experian,...  \n",
       "10  [two, accounts, still, credit, history, contac...  \n",
       "13  [receiving, daily, telephone, call, identifyin...  "
      ]
     },
     "execution_count": 48,
     "metadata": {},
     "output_type": "execute_result"
    }
   ],
   "source": [
    "data.head()"
   ]
  },
  {
   "cell_type": "code",
   "execution_count": 49,
   "id": "d830521b",
   "metadata": {},
   "outputs": [],
   "source": [
    "loan_complaints = list(data[data[\"Product\"]==\"loan\"][\"clean_complaints\"])"
   ]
  },
  {
   "cell_type": "code",
   "execution_count": 50,
   "id": "765a73fc",
   "metadata": {},
   "outputs": [
    {
     "name": "stderr",
     "output_type": "stream",
     "text": [
      "100%|██████████| 50710/50710 [00:04<00:00, 10577.12it/s]\n"
     ]
    }
   ],
   "source": [
    "loan_complaints = [token for complaint in tqdm(loan_complaints) for token in complaint]"
   ]
  },
  {
   "cell_type": "code",
   "execution_count": 51,
   "id": "1425469d",
   "metadata": {},
   "outputs": [],
   "source": [
    "counter = Counter(loan_complaints)"
   ]
  },
  {
   "cell_type": "code",
   "execution_count": 52,
   "id": "4b0a49a7",
   "metadata": {},
   "outputs": [
    {
     "data": {
      "text/plain": [
       "[('loan', 108721),\n",
       " ('payment', 69612),\n",
       " ('xxxxxxxx', 54859),\n",
       " ('payments', 54658),\n",
       " ('would', 51778),\n",
       " ('loans', 49381),\n",
       " ('account', 44823),\n",
       " ('credit', 40709),\n",
       " ('told', 38378),\n",
       " ('pay', 36730)]"
      ]
     },
     "execution_count": 52,
     "metadata": {},
     "output_type": "execute_result"
    }
   ],
   "source": [
    "counter.most_common(10)"
   ]
  },
  {
   "cell_type": "code",
   "execution_count": 53,
   "id": "349667fd",
   "metadata": {},
   "outputs": [],
   "source": [
    "card_complaints = list(data[data[\"Product\"]==\"card\"][\"clean_complaints\"])"
   ]
  },
  {
   "cell_type": "code",
   "execution_count": 54,
   "id": "67e1227b",
   "metadata": {},
   "outputs": [
    {
     "name": "stderr",
     "output_type": "stream",
     "text": [
      "100%|██████████| 81042/81042 [00:04<00:00, 17850.42it/s]\n"
     ]
    }
   ],
   "source": [
    "card_complaints = [token for complaint in tqdm(card_complaints)\n",
    "                  for token in complaint]"
   ]
  },
  {
   "cell_type": "code",
   "execution_count": 55,
   "id": "1ff6f0a5",
   "metadata": {},
   "outputs": [],
   "source": [
    "counter = Counter(card_complaints)"
   ]
  },
  {
   "cell_type": "code",
   "execution_count": 56,
   "id": "eff84021",
   "metadata": {},
   "outputs": [
    {
     "data": {
      "text/plain": [
       "[('card', 188911),\n",
       " ('credit', 180949),\n",
       " ('account', 143171),\n",
       " ('xxxxxxxx', 95253),\n",
       " ('would', 74332),\n",
       " ('bank', 68126),\n",
       " ('payment', 68015),\n",
       " ('told', 57508),\n",
       " ('called', 53979),\n",
       " ('one', 53750)]"
      ]
     },
     "execution_count": 56,
     "metadata": {},
     "output_type": "execute_result"
    }
   ],
   "source": [
    "counter.most_common(10)"
   ]
  },
  {
   "cell_type": "code",
   "execution_count": 57,
   "id": "b746f816",
   "metadata": {},
   "outputs": [
    {
     "name": "stderr",
     "output_type": "stream",
     "text": [
      "100%|██████████| 809343/809343 [00:21<00:00, 38152.61it/s]\n"
     ]
    }
   ],
   "source": [
    "counter = Counter([t for complaint in tqdm(tokens) for t in complaint])"
   ]
  },
  {
   "cell_type": "code",
   "execution_count": 58,
   "id": "ad2d9ebd",
   "metadata": {},
   "outputs": [
    {
     "data": {
      "text/plain": [
       "[('credit', 1371264),\n",
       " ('account', 1098988),\n",
       " ('xxxxxxxx', 889650),\n",
       " ('report', 632326),\n",
       " ('information', 584507),\n",
       " ('would', 478585),\n",
       " ('payment', 472922),\n",
       " ('loan', 425411),\n",
       " ('debt', 413992),\n",
       " ('bank', 379931)]"
      ]
     },
     "execution_count": 58,
     "metadata": {},
     "output_type": "execute_result"
    }
   ],
   "source": [
    "counter.most_common(10)"
   ]
  },
  {
   "cell_type": "code",
   "execution_count": 59,
   "id": "1ed74d45",
   "metadata": {},
   "outputs": [
    {
     "data": {
      "text/plain": [
       "243338"
      ]
     },
     "execution_count": 59,
     "metadata": {},
     "output_type": "execute_result"
    }
   ],
   "source": [
    "len(counter.keys())"
   ]
  },
  {
   "cell_type": "code",
   "execution_count": 60,
   "id": "a4ab1ac6",
   "metadata": {},
   "outputs": [
    {
     "name": "stderr",
     "output_type": "stream",
     "text": [
      "100%|██████████| 809343/809343 [00:18<00:00, 43518.58it/s]\n"
     ]
    }
   ],
   "source": [
    "clean_complaints = [\" \".join(complaint) for complaint in tqdm(tokens)]"
   ]
  },
  {
   "cell_type": "code",
   "execution_count": 61,
   "id": "2de5ff72",
   "metadata": {},
   "outputs": [
    {
     "data": {
      "text/plain": [
       "'credit reports list monies owed written collection agency requesting proof owe monies account none ever sent notified credit agencies creditor never sent required proof yet continue list account credit report credit reports list monies owed submitted documentation showed original creditor paid however credit reporting agencies continue list credit report furthermore two separate collection agencies listed creditreport account credit reports list bankruptcy deleted since 7 years reporting expired'"
      ]
     },
     "execution_count": 61,
     "metadata": {},
     "output_type": "execute_result"
    }
   ],
   "source": [
    "clean_complaints[13]"
   ]
  },
  {
   "cell_type": "code",
   "execution_count": 62,
   "id": "9eb4bf72",
   "metadata": {},
   "outputs": [
    {
     "data": {
      "text/plain": [
       "'sent email looked like personal data may compromised opened reviewed everything several unknown inquiries accounts certainly belong pulled credit make sure accounts reporting definitely mine please remove items report bankruptcy chapter xxxxdismissed'"
      ]
     },
     "execution_count": 62,
     "metadata": {},
     "output_type": "execute_result"
    }
   ],
   "source": [
    "clean_complaints[3401]"
   ]
  },
  {
   "cell_type": "markdown",
   "id": "34de844a",
   "metadata": {},
   "source": [
    "# Data Preparation"
   ]
  },
  {
   "cell_type": "markdown",
   "id": "622b50e6",
   "metadata": {},
   "source": [
    "### Vectorize the data"
   ]
  },
  {
   "cell_type": "code",
   "execution_count": 63,
   "id": "2611d3fd",
   "metadata": {},
   "outputs": [],
   "source": [
    "vect = CountVectorizer(min_df=200)"
   ]
  },
  {
   "cell_type": "code",
   "execution_count": 64,
   "id": "6e91f39f",
   "metadata": {},
   "outputs": [],
   "source": [
    "X = vect.fit_transform(clean_complaints)"
   ]
  },
  {
   "cell_type": "code",
   "execution_count": 65,
   "id": "2d63c0e4",
   "metadata": {},
   "outputs": [
    {
     "data": {
      "text/plain": [
       "(809343, 8547)"
      ]
     },
     "execution_count": 65,
     "metadata": {},
     "output_type": "execute_result"
    }
   ],
   "source": [
    "X.shape"
   ]
  },
  {
   "cell_type": "code",
   "execution_count": 66,
   "id": "613bdde8",
   "metadata": {},
   "outputs": [],
   "source": [
    "y = data[\"Product\"]"
   ]
  },
  {
   "cell_type": "markdown",
   "id": "3ccc5d2a",
   "metadata": {},
   "source": [
    "### Split the data into train and test"
   ]
  },
  {
   "cell_type": "code",
   "execution_count": 68,
   "id": "ce861b46",
   "metadata": {},
   "outputs": [],
   "source": [
    "X_train, X_test, y_train, y_test = train_test_split(X, y, test_size=0.2,\n",
    "                                                   stratify=y,\n",
    "                                                   random_state=42)"
   ]
  },
  {
   "cell_type": "code",
   "execution_count": 69,
   "id": "5c67a689",
   "metadata": {},
   "outputs": [
    {
     "name": "stdout",
     "output_type": "stream",
     "text": [
      "(647474, 8547) (647474,) (161869, 8547) (161869,)\n"
     ]
    }
   ],
   "source": [
    "print(X_train.shape, y_train.shape, X_test.shape, y_test.shape)"
   ]
  },
  {
   "cell_type": "markdown",
   "id": "61e57ac0",
   "metadata": {},
   "source": [
    "# Model Training"
   ]
  },
  {
   "cell_type": "markdown",
   "id": "7ba1263a",
   "metadata": {},
   "source": [
    "### Create a multi-nomial Naive Bayes' Model"
   ]
  },
  {
   "cell_type": "code",
   "execution_count": 70,
   "id": "2ba39b76",
   "metadata": {},
   "outputs": [],
   "source": [
    "model = MultinomialNB()"
   ]
  },
  {
   "cell_type": "code",
   "execution_count": 71,
   "id": "8cced669",
   "metadata": {},
   "outputs": [
    {
     "data": {
      "text/plain": [
       "MultinomialNB()"
      ]
     },
     "execution_count": 71,
     "metadata": {},
     "output_type": "execute_result"
    }
   ],
   "source": [
    "model.fit(X_train, y_train)"
   ]
  },
  {
   "cell_type": "markdown",
   "id": "34e71c9f",
   "metadata": {},
   "source": [
    "### Predict on test set"
   ]
  },
  {
   "cell_type": "code",
   "execution_count": 72,
   "id": "27519d90",
   "metadata": {},
   "outputs": [],
   "source": [
    "test_pred = model.predict(X_test)"
   ]
  },
  {
   "cell_type": "code",
   "execution_count": 73,
   "id": "2f17c163",
   "metadata": {},
   "outputs": [
    {
     "data": {
      "text/plain": [
       "0.787371269359791"
      ]
     },
     "execution_count": 73,
     "metadata": {},
     "output_type": "execute_result"
    }
   ],
   "source": [
    "accuracy_score(y_test, test_pred)"
   ]
  },
  {
   "cell_type": "markdown",
   "id": "182087c2",
   "metadata": {},
   "source": [
    "### Visualize confusion matrix"
   ]
  },
  {
   "cell_type": "code",
   "execution_count": 74,
   "id": "8aee58a8",
   "metadata": {},
   "outputs": [],
   "source": [
    "conf_mat = confusion_matrix(y_test, test_pred)"
   ]
  },
  {
   "cell_type": "code",
   "execution_count": 75,
   "id": "19a334d4",
   "metadata": {},
   "outputs": [
    {
     "data": {
      "text/plain": [
       "array([[12285,  1137,   422,   358,   522,    63,    16,  1254,   152],\n",
       "       [ 3126, 56518,  4646,  1578,   240,  1071,    61,   410,  1961],\n",
       "       [ 1091,  4539, 22698,  1481,   131,   555,    30,   332,   619],\n",
       "       [  296,   519,   633,  6966,    91,   246,    17,   229,  1145],\n",
       "       [  154,    18,    29,    27,  3207,    36,    25,   516,     7],\n",
       "       [  164,   354,   198,   364,    65, 15383,    16,   235,   113],\n",
       "       [    3,     0,     4,    19,     4,     4,     7,    17,     0],\n",
       "       [  777,   182,    93,    73,   877,   159,    18,  8217,    59],\n",
       "       [   70,   261,   115,   295,     4,    41,     3,    48,  2170]])"
      ]
     },
     "execution_count": 75,
     "metadata": {},
     "output_type": "execute_result"
    }
   ],
   "source": [
    "conf_mat"
   ]
  },
  {
   "cell_type": "code",
   "execution_count": 76,
   "id": "795398da",
   "metadata": {},
   "outputs": [],
   "source": [
    "conf_mat = pd.DataFrame(conf_mat, columns=model.classes_,\n",
    "                       index=model.classes_)"
   ]
  },
  {
   "cell_type": "code",
   "execution_count": 77,
   "id": "07390433",
   "metadata": {},
   "outputs": [
    {
     "data": {
      "text/html": [
       "<div>\n",
       "<style scoped>\n",
       "    .dataframe tbody tr th:only-of-type {\n",
       "        vertical-align: middle;\n",
       "    }\n",
       "\n",
       "    .dataframe tbody tr th {\n",
       "        vertical-align: top;\n",
       "    }\n",
       "\n",
       "    .dataframe thead th {\n",
       "        text-align: right;\n",
       "    }\n",
       "</style>\n",
       "<table border=\"1\" class=\"dataframe\">\n",
       "  <thead>\n",
       "    <tr style=\"text-align: right;\">\n",
       "      <th></th>\n",
       "      <th>card</th>\n",
       "      <th>credit_report</th>\n",
       "      <th>debt_collection</th>\n",
       "      <th>loan</th>\n",
       "      <th>money_transfer</th>\n",
       "      <th>mortgage</th>\n",
       "      <th>others</th>\n",
       "      <th>savings_account</th>\n",
       "      <th>vehicle_loan</th>\n",
       "    </tr>\n",
       "  </thead>\n",
       "  <tbody>\n",
       "    <tr>\n",
       "      <th>card</th>\n",
       "      <td>12285</td>\n",
       "      <td>1137</td>\n",
       "      <td>422</td>\n",
       "      <td>358</td>\n",
       "      <td>522</td>\n",
       "      <td>63</td>\n",
       "      <td>16</td>\n",
       "      <td>1254</td>\n",
       "      <td>152</td>\n",
       "    </tr>\n",
       "    <tr>\n",
       "      <th>credit_report</th>\n",
       "      <td>3126</td>\n",
       "      <td>56518</td>\n",
       "      <td>4646</td>\n",
       "      <td>1578</td>\n",
       "      <td>240</td>\n",
       "      <td>1071</td>\n",
       "      <td>61</td>\n",
       "      <td>410</td>\n",
       "      <td>1961</td>\n",
       "    </tr>\n",
       "    <tr>\n",
       "      <th>debt_collection</th>\n",
       "      <td>1091</td>\n",
       "      <td>4539</td>\n",
       "      <td>22698</td>\n",
       "      <td>1481</td>\n",
       "      <td>131</td>\n",
       "      <td>555</td>\n",
       "      <td>30</td>\n",
       "      <td>332</td>\n",
       "      <td>619</td>\n",
       "    </tr>\n",
       "    <tr>\n",
       "      <th>loan</th>\n",
       "      <td>296</td>\n",
       "      <td>519</td>\n",
       "      <td>633</td>\n",
       "      <td>6966</td>\n",
       "      <td>91</td>\n",
       "      <td>246</td>\n",
       "      <td>17</td>\n",
       "      <td>229</td>\n",
       "      <td>1145</td>\n",
       "    </tr>\n",
       "    <tr>\n",
       "      <th>money_transfer</th>\n",
       "      <td>154</td>\n",
       "      <td>18</td>\n",
       "      <td>29</td>\n",
       "      <td>27</td>\n",
       "      <td>3207</td>\n",
       "      <td>36</td>\n",
       "      <td>25</td>\n",
       "      <td>516</td>\n",
       "      <td>7</td>\n",
       "    </tr>\n",
       "    <tr>\n",
       "      <th>mortgage</th>\n",
       "      <td>164</td>\n",
       "      <td>354</td>\n",
       "      <td>198</td>\n",
       "      <td>364</td>\n",
       "      <td>65</td>\n",
       "      <td>15383</td>\n",
       "      <td>16</td>\n",
       "      <td>235</td>\n",
       "      <td>113</td>\n",
       "    </tr>\n",
       "    <tr>\n",
       "      <th>others</th>\n",
       "      <td>3</td>\n",
       "      <td>0</td>\n",
       "      <td>4</td>\n",
       "      <td>19</td>\n",
       "      <td>4</td>\n",
       "      <td>4</td>\n",
       "      <td>7</td>\n",
       "      <td>17</td>\n",
       "      <td>0</td>\n",
       "    </tr>\n",
       "    <tr>\n",
       "      <th>savings_account</th>\n",
       "      <td>777</td>\n",
       "      <td>182</td>\n",
       "      <td>93</td>\n",
       "      <td>73</td>\n",
       "      <td>877</td>\n",
       "      <td>159</td>\n",
       "      <td>18</td>\n",
       "      <td>8217</td>\n",
       "      <td>59</td>\n",
       "    </tr>\n",
       "    <tr>\n",
       "      <th>vehicle_loan</th>\n",
       "      <td>70</td>\n",
       "      <td>261</td>\n",
       "      <td>115</td>\n",
       "      <td>295</td>\n",
       "      <td>4</td>\n",
       "      <td>41</td>\n",
       "      <td>3</td>\n",
       "      <td>48</td>\n",
       "      <td>2170</td>\n",
       "    </tr>\n",
       "  </tbody>\n",
       "</table>\n",
       "</div>"
      ],
      "text/plain": [
       "                  card  credit_report  debt_collection  loan  money_transfer  \\\n",
       "card             12285           1137              422   358             522   \n",
       "credit_report     3126          56518             4646  1578             240   \n",
       "debt_collection   1091           4539            22698  1481             131   \n",
       "loan               296            519              633  6966              91   \n",
       "money_transfer     154             18               29    27            3207   \n",
       "mortgage           164            354              198   364              65   \n",
       "others               3              0                4    19               4   \n",
       "savings_account    777            182               93    73             877   \n",
       "vehicle_loan        70            261              115   295               4   \n",
       "\n",
       "                 mortgage  others  savings_account  vehicle_loan  \n",
       "card                   63      16             1254           152  \n",
       "credit_report        1071      61              410          1961  \n",
       "debt_collection       555      30              332           619  \n",
       "loan                  246      17              229          1145  \n",
       "money_transfer         36      25              516             7  \n",
       "mortgage            15383      16              235           113  \n",
       "others                  4       7               17             0  \n",
       "savings_account       159      18             8217            59  \n",
       "vehicle_loan           41       3               48          2170  "
      ]
     },
     "execution_count": 77,
     "metadata": {},
     "output_type": "execute_result"
    }
   ],
   "source": [
    "conf_mat"
   ]
  },
  {
   "cell_type": "code",
   "execution_count": 78,
   "id": "b5871c63",
   "metadata": {},
   "outputs": [
    {
     "data": {
      "image/png": "[encoded data removed]",
      "text/plain": [
       "<Figure size 432x288 with 2 Axes>"
      ]
     },
     "metadata": {
      "needs_background": "light"
     },
     "output_type": "display_data"
    }
   ],
   "source": [
    "sns.heatmap(conf_mat)\n",
    "plt.show()"
   ]
  },
  {
   "cell_type": "markdown",
   "id": "f0664a25",
   "metadata": {},
   "source": [
    "### Save vectorizer and model object"
   ]
  },
  {
   "cell_type": "code",
   "execution_count": 79,
   "id": "e0ff5a18",
   "metadata": {},
   "outputs": [],
   "source": [
    "with open(\"Output/count_vect.pkl\", \"wb\") as f:\n",
    "    pickle.dump(vect, f)\n",
    "with open(\"Output/nb.pkl\", \"wb\") as f:\n",
    "    pickle.dump(model, f)"
   ]
  },
  {
   "cell_type": "markdown",
   "id": "d3caf556",
   "metadata": {},
   "source": [
    "# Prediction"
   ]
  },
  {
   "cell_type": "code",
   "execution_count": 80,
   "id": "b12693a4",
   "metadata": {},
   "outputs": [
    {
     "data": {
      "text/plain": [
       "'I have a debt of Bank of America which was written off by the bank XX/XX/XXXX without my knowledge. I went to the bank XXXX XXXX since a law group kept on delving on XXXX XXXX Clerk File and garnishing salary from my work.This case has been closed.I paid a lesser amount to the bank to close this debt XXXX I sent them checks. I will greatly appreciate if this case will be resolve.'"
      ]
     },
     "execution_count": 80,
     "metadata": {},
     "output_type": "execute_result"
    }
   ],
   "source": [
    "data[\"Complaint\"][1545]"
   ]
  },
  {
   "cell_type": "code",
   "execution_count": 81,
   "id": "a2c06f08",
   "metadata": {},
   "outputs": [
    {
     "data": {
      "text/plain": [
       "'debt_collection'"
      ]
     },
     "execution_count": 81,
     "metadata": {},
     "output_type": "execute_result"
    }
   ],
   "source": [
    "data[\"Product\"][1545]"
   ]
  },
  {
   "cell_type": "code",
   "execution_count": 82,
   "id": "2441daf8",
   "metadata": {},
   "outputs": [
    {
     "data": {
      "text/plain": [
       "'This is a personal Delta American Express charge card. I am a 30 year customer with American Express. I suddenly, without notice or warning have noted that \" Charging Privileges Have Been Suspended \\'\\'. The card is current, with no money owed. This notice is only available online and I never received ANY written advice of this action. My account is not \" paperless \\'\\'. At the phone number provided to call for information, after nearly an hour on the phone THREE TIMES, no explanation was ever provided and I was advised I \" would be contacted \\'\\' to explain the ( lack of ) issue. I was never contacted. I had accumulated miles points on the card that I can not access and my charge privileges have been suspended. I am unable to obtain any information.'"
      ]
     },
     "execution_count": 82,
     "metadata": {},
     "output_type": "execute_result"
    }
   ],
   "source": [
    "data[\"Complaint\"][5001]"
   ]
  },
  {
   "cell_type": "code",
   "execution_count": 83,
   "id": "1f813006",
   "metadata": {},
   "outputs": [
    {
     "data": {
      "text/plain": [
       "'card'"
      ]
     },
     "execution_count": 83,
     "metadata": {},
     "output_type": "execute_result"
    }
   ],
   "source": [
    "data[\"Product\"][5001]"
   ]
  },
  {
   "cell_type": "code",
   "execution_count": 84,
   "id": "c6572c01",
   "metadata": {},
   "outputs": [],
   "source": [
    "test_complaint_1 = data[\"Complaint\"][1545]\n",
    "test_complaint_2 = data[\"Complaint\"][5001]"
   ]
  },
  {
   "cell_type": "code",
   "execution_count": 85,
   "id": "e2888493",
   "metadata": {},
   "outputs": [],
   "source": [
    "test_complaint = [test_complaint_1, test_complaint_2]"
   ]
  },
  {
   "cell_type": "markdown",
   "id": "ce3a2d38",
   "metadata": {},
   "source": [
    "### Load the vectorizer and model objects"
   ]
  },
  {
   "cell_type": "code",
   "execution_count": 86,
   "id": "b95a5dc8",
   "metadata": {},
   "outputs": [],
   "source": [
    "vect = pickle.load(open(\"Output/count_vect.pkl\", \"rb\"))\n",
    "model = pickle.load(open(\"Output/nb.pkl\", \"rb\"))"
   ]
  },
  {
   "cell_type": "markdown",
   "id": "e4d27994",
   "metadata": {},
   "source": [
    "### Process test data"
   ]
  },
  {
   "cell_type": "code",
   "execution_count": 88,
   "id": "303543e2",
   "metadata": {},
   "outputs": [],
   "source": [
    "test_complaint = [r.lower() for r in test_complaint]"
   ]
  },
  {
   "cell_type": "code",
   "execution_count": 89,
   "id": "f00847b5",
   "metadata": {},
   "outputs": [
    {
     "data": {
      "text/plain": [
       "['i have a debt of bank of america which was written off by the bank xx/xx/xxxx without my knowledge. i went to the bank xxxx xxxx since a law group kept on delving on xxxx xxxx clerk file and garnishing salary from my work.this case has been closed.i paid a lesser amount to the bank to close this debt xxxx i sent them checks. i will greatly appreciate if this case will be resolve.',\n",
       " 'this is a personal delta american express charge card. i am a 30 year customer with american express. i suddenly, without notice or warning have noted that \" charging privileges have been suspended \\'\\'. the card is current, with no money owed. this notice is only available online and i never received any written advice of this action. my account is not \" paperless \\'\\'. at the phone number provided to call for information, after nearly an hour on the phone three times, no explanation was ever provided and i was advised i \" would be contacted \\'\\' to explain the ( lack of ) issue. i was never contacted. i had accumulated miles points on the card that i can not access and my charge privileges have been suspended. i am unable to obtain any information.']"
      ]
     },
     "execution_count": 89,
     "metadata": {},
     "output_type": "execute_result"
    }
   ],
   "source": [
    "test_complaint"
   ]
  },
  {
   "cell_type": "code",
   "execution_count": 90,
   "id": "d98eb410",
   "metadata": {},
   "outputs": [],
   "source": [
    "test_tokens = [word_tokenize(r) for r in test_complaint]"
   ]
  },
  {
   "cell_type": "code",
   "execution_count": 91,
   "id": "34113a15",
   "metadata": {},
   "outputs": [],
   "source": [
    "test_tokens = [[word for word in t if word not in sw] for t in test_tokens]"
   ]
  },
  {
   "cell_type": "code",
   "execution_count": 92,
   "id": "45170225",
   "metadata": {},
   "outputs": [],
   "source": [
    "test_tokens = [[\"\".join(tokenizer.tokenize(word)) for word in t\n",
    "              if len(tokenizer.tokenize(word))>0 ] for t in test_tokens]"
   ]
  },
  {
   "cell_type": "code",
   "execution_count": 93,
   "id": "7f71a841",
   "metadata": {},
   "outputs": [],
   "source": [
    "test_tokens = [[t for t in token if t not in [\"xxxx\", \"000\"]]\n",
    "              for token in test_tokens]"
   ]
  },
  {
   "cell_type": "code",
   "execution_count": 94,
   "id": "753b5245",
   "metadata": {},
   "outputs": [],
   "source": [
    "clean_test_complaints = [\" \".join(complaint) for complaint in test_tokens]"
   ]
  },
  {
   "cell_type": "markdown",
   "id": "75f3cb08",
   "metadata": {},
   "source": [
    "### Vectorize test data"
   ]
  },
  {
   "cell_type": "code",
   "execution_count": 95,
   "id": "8cf4a7a3",
   "metadata": {},
   "outputs": [],
   "source": [
    "X_test = vect.transform(clean_test_complaints)"
   ]
  },
  {
   "cell_type": "markdown",
   "id": "a91b1617",
   "metadata": {},
   "source": [
    "### Make predictions"
   ]
  },
  {
   "cell_type": "code",
   "execution_count": 96,
   "id": "2631a62b",
   "metadata": {},
   "outputs": [
    {
     "data": {
      "text/plain": [
       "array(['debt_collection', 'card'], dtype='<U15')"
      ]
     },
     "execution_count": 96,
     "metadata": {},
     "output_type": "execute_result"
    }
   ],
   "source": [
    "model.predict(X_test)"
   ]
  },
  {
   "cell_type": "code",
   "execution_count": null,
   "id": "a83d3efe",
   "metadata": {},
   "outputs": [],
   "source": []
  }
 ],
 "metadata": {
  "kernelspec": {
   "display_name": "Python 3 (ipykernel)",
   "language": "python",
   "name": "python3"
  },
  "language_info": {
   "codemirror_mode": {
    "name": "ipython",
    "version": 3
   },
   "file_extension": ".py",
   "mimetype": "text/x-python",
   "name": "python",
   "nbconvert_exporter": "python",
   "pygments_lexer": "ipython3",
   "version": "3.9.5"
  }
 },
 "nbformat": 4,
 "nbformat_minor": 5
}
